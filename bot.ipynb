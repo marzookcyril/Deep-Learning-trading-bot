{
  "nbformat": 4,
  "nbformat_minor": 0,
  "metadata": {
    "colab": {
      "name": "Untitled",
      "provenance": []
    },
    "kernelspec": {
      "name": "python3",
      "display_name": "Python 3"
    }
  },
  "cells": [
    {
      "cell_type": "code",
      "metadata": {
        "id": "dIoLOrO4bK-D"
      },
      "source": [
        "  import math\n",
        "import pandas_datareader as web\n",
        "import numpy as np\n",
        "import pandas as pd\n",
        "from sklearn.preprocessing import MinMaxScaler\n",
        "from keras.models import Sequential\n",
        "from keras.layers import Dense, LSTM\n",
        "import matplotlib.pyplot as plt\n",
        "plt.style.use('fivethirtyeight')"
      ],
      "execution_count": null,
      "outputs": []
    },
    {
      "cell_type": "code",
      "metadata": {
        "id": "Wtt9LzIscVT3"
      },
      "source": [
        "from google.colab import files\n",
        "files.upload()"
      ],
      "execution_count": null,
      "outputs": []
    },
    {
      "cell_type": "code",
      "metadata": {
        "id": "Vtygi123gvEf",
        "outputId": "877f0832-5dd4-41d6-aeed-f13dac6c8ea1",
        "colab": {
          "base_uri": "https://localhost:8080/",
          "height": 419
        }
      },
      "source": [
        "raw_data = pd.read_csv('XAUUSD60streamlined.csv')\n",
        "raw_data"
      ],
      "execution_count": null,
      "outputs": [
        {
          "output_type": "execute_result",
          "data": {
            "text/html": [
              "<div>\n",
              "<style scoped>\n",
              "    .dataframe tbody tr th:only-of-type {\n",
              "        vertical-align: middle;\n",
              "    }\n",
              "\n",
              "    .dataframe tbody tr th {\n",
              "        vertical-align: top;\n",
              "    }\n",
              "\n",
              "    .dataframe thead th {\n",
              "        text-align: right;\n",
              "    }\n",
              "</style>\n",
              "<table border=\"1\" class=\"dataframe\">\n",
              "  <thead>\n",
              "    <tr style=\"text-align: right;\">\n",
              "      <th></th>\n",
              "      <th>Date</th>\n",
              "      <th>Open</th>\n",
              "      <th>High</th>\n",
              "      <th>Low</th>\n",
              "      <th>Close</th>\n",
              "    </tr>\n",
              "  </thead>\n",
              "  <tbody>\n",
              "    <tr>\n",
              "      <th>0</th>\n",
              "      <td>2012-06-22 07:00</td>\n",
              "      <td>1561.375</td>\n",
              "      <td>1566.751</td>\n",
              "      <td>1559.626</td>\n",
              "      <td>1564.796</td>\n",
              "    </tr>\n",
              "    <tr>\n",
              "      <th>1</th>\n",
              "      <td>2012-06-22 08:00</td>\n",
              "      <td>1564.780</td>\n",
              "      <td>1569.378</td>\n",
              "      <td>1564.384</td>\n",
              "      <td>1569.232</td>\n",
              "    </tr>\n",
              "    <tr>\n",
              "      <th>2</th>\n",
              "      <td>2012-06-22 09:00</td>\n",
              "      <td>1569.146</td>\n",
              "      <td>1572.376</td>\n",
              "      <td>1568.905</td>\n",
              "      <td>1570.179</td>\n",
              "    </tr>\n",
              "    <tr>\n",
              "      <th>3</th>\n",
              "      <td>2012-06-22 10:00</td>\n",
              "      <td>1570.175</td>\n",
              "      <td>1571.013</td>\n",
              "      <td>1567.982</td>\n",
              "      <td>1568.203</td>\n",
              "    </tr>\n",
              "    <tr>\n",
              "      <th>4</th>\n",
              "      <td>2012-06-22 11:00</td>\n",
              "      <td>1568.203</td>\n",
              "      <td>1570.953</td>\n",
              "      <td>1567.597</td>\n",
              "      <td>1570.657</td>\n",
              "    </tr>\n",
              "    <tr>\n",
              "      <th>...</th>\n",
              "      <td>...</td>\n",
              "      <td>...</td>\n",
              "      <td>...</td>\n",
              "      <td>...</td>\n",
              "      <td>...</td>\n",
              "    </tr>\n",
              "    <tr>\n",
              "      <th>49995</th>\n",
              "      <td>2020-11-09 09:00</td>\n",
              "      <td>1959.598</td>\n",
              "      <td>1961.085</td>\n",
              "      <td>1958.138</td>\n",
              "      <td>1958.558</td>\n",
              "    </tr>\n",
              "    <tr>\n",
              "      <th>49996</th>\n",
              "      <td>2020-11-09 10:00</td>\n",
              "      <td>1958.458</td>\n",
              "      <td>1960.318</td>\n",
              "      <td>1957.495</td>\n",
              "      <td>1958.725</td>\n",
              "    </tr>\n",
              "    <tr>\n",
              "      <th>49997</th>\n",
              "      <td>2020-11-09 11:00</td>\n",
              "      <td>1958.725</td>\n",
              "      <td>1958.725</td>\n",
              "      <td>1934.538</td>\n",
              "      <td>1938.078</td>\n",
              "    </tr>\n",
              "    <tr>\n",
              "      <th>49998</th>\n",
              "      <td>2020-11-09 12:00</td>\n",
              "      <td>1938.108</td>\n",
              "      <td>1938.878</td>\n",
              "      <td>1901.045</td>\n",
              "      <td>1911.468</td>\n",
              "    </tr>\n",
              "    <tr>\n",
              "      <th>49999</th>\n",
              "      <td>2020-11-09 13:00</td>\n",
              "      <td>1911.415</td>\n",
              "      <td>1911.548</td>\n",
              "      <td>1868.448</td>\n",
              "      <td>1880.518</td>\n",
              "    </tr>\n",
              "  </tbody>\n",
              "</table>\n",
              "<p>50000 rows × 5 columns</p>\n",
              "</div>"
            ],
            "text/plain": [
              "                   Date      Open      High       Low     Close\n",
              "0      2012-06-22 07:00  1561.375  1566.751  1559.626  1564.796\n",
              "1      2012-06-22 08:00  1564.780  1569.378  1564.384  1569.232\n",
              "2      2012-06-22 09:00  1569.146  1572.376  1568.905  1570.179\n",
              "3      2012-06-22 10:00  1570.175  1571.013  1567.982  1568.203\n",
              "4      2012-06-22 11:00  1568.203  1570.953  1567.597  1570.657\n",
              "...                 ...       ...       ...       ...       ...\n",
              "49995  2020-11-09 09:00  1959.598  1961.085  1958.138  1958.558\n",
              "49996  2020-11-09 10:00  1958.458  1960.318  1957.495  1958.725\n",
              "49997  2020-11-09 11:00  1958.725  1958.725  1934.538  1938.078\n",
              "49998  2020-11-09 12:00  1938.108  1938.878  1901.045  1911.468\n",
              "49999  2020-11-09 13:00  1911.415  1911.548  1868.448  1880.518\n",
              "\n",
              "[50000 rows x 5 columns]"
            ]
          },
          "metadata": {
            "tags": []
          },
          "execution_count": 5
        }
      ]
    },
    {
      "cell_type": "code",
      "metadata": {
        "id": "wjpjFwJphBpw",
        "outputId": "bfa0f868-f969-4b1b-f4ba-fe30152ad783",
        "colab": {
          "base_uri": "https://localhost:8080/"
        }
      },
      "source": [
        "raw_data.shape"
      ],
      "execution_count": null,
      "outputs": [
        {
          "output_type": "execute_result",
          "data": {
            "text/plain": [
              "(50000, 5)"
            ]
          },
          "metadata": {
            "tags": []
          },
          "execution_count": 6
        }
      ]
    },
    {
      "cell_type": "code",
      "metadata": {
        "id": "GMMhkWoad5a6"
      },
      "source": [
        "tail_raw = raw_data.tail(168)\n",
        "tail_raw = tail_raw[['Open','High', 'Low', 'Close']]"
      ],
      "execution_count": null,
      "outputs": []
    },
    {
      "cell_type": "code",
      "metadata": {
        "id": "6yt5CWd2hxwu",
        "outputId": "e1022e0c-583a-4ad7-91f1-9ed77fc7cb41",
        "colab": {
          "base_uri": "https://localhost:8080/",
          "height": 518
        }
      },
      "source": [
        "plt.figure(figsize=(27,8))\n",
        "plt.title('Close Price History')\n",
        "plt.plot(raw_data['Close'])\n",
        "plt.xlabel('Date', fontsize=18)\n",
        "plt.ylabel('Close Price USD ($) ',  fontsize=18)\n",
        "plt.show()"
      ],
      "execution_count": null,
      "outputs": [
        {
          "output_type": "display_data",
          "data": {
            "image/png": "[encoded data removed]",
            "text/plain": [
              "<Figure size 1944x576 with 1 Axes>"
            ]
          },
          "metadata": {
            "tags": [],
            "needs_background": "light"
          }
        }
      ]
    },
    {
      "cell_type": "code",
      "metadata": {
        "id": "gtWJmc-eicFy",
        "outputId": "69f03062-b361-4d84-f2f7-a2b8c94e2992",
        "colab": {
          "base_uri": "https://localhost:8080/"
        }
      },
      "source": [
        "data_all = raw_data.filter(['Open','High','Low','Close']).values\n",
        "data_test = raw_data.filter(['Open','High','Low','Close'])\n",
        "data_close = raw_data.filter(['Close']).values\n",
        "data_all"
      ],
      "execution_count": null,
      "outputs": [
        {
          "output_type": "execute_result",
          "data": {
            "text/plain": [
              "array([[1561.375, 1566.751, 1559.626, 1564.796],\n",
              "       [1564.78 , 1569.378, 1564.384, 1569.232],\n",
              "       [1569.146, 1572.376, 1568.905, 1570.179],\n",
              "       ...,\n",
              "       [1958.725, 1958.725, 1934.538, 1938.078],\n",
              "       [1938.108, 1938.878, 1901.045, 1911.468],\n",
              "       [1911.415, 1911.548, 1868.448, 1880.518]])"
            ]
          },
          "metadata": {
            "tags": []
          },
          "execution_count": 23
        }
      ]
    },
    {
      "cell_type": "code",
      "metadata": {
        "id": "40W1sOaajNix",
        "outputId": "147c7322-2d1c-4f70-96a3-4eda7b851cf4",
        "colab": {
          "base_uri": "https://localhost:8080/"
        }
      },
      "source": [
        "data_all"
      ],
      "execution_count": null,
      "outputs": [
        {
          "output_type": "execute_result",
          "data": {
            "text/plain": [
              "array([['2012-06-22 07:00', 1561.375, 1566.751, 1559.626, 1564.796],\n",
              "       ['2012-06-22 08:00', 1564.78, 1569.378, 1564.384,\n",
              "        1569.2320000000002],\n",
              "       ['2012-06-22 09:00', 1569.146, 1572.376, 1568.905,\n",
              "        1570.1789999999999],\n",
              "       ...,\n",
              "       ['2020-11-09 11:00', 1958.725, 1958.725, 1934.5379999999998,\n",
              "        1938.078],\n",
              "       ['2020-11-09 12:00', 1938.108, 1938.878, 1901.045,\n",
              "        1911.4679999999998],\n",
              "       ['2020-11-09 13:00', 1911.415, 1911.5479999999998,\n",
              "        1868.4479999999999, 1880.5179999999998]], dtype=object)"
            ]
          },
          "metadata": {
            "tags": []
          },
          "execution_count": 15
        }
      ]
    },
    {
      "cell_type": "code",
      "metadata": {
        "id": "-MtwJPyUjalK",
        "outputId": "398d437d-6809-473a-a78a-f86374b192e8",
        "colab": {
          "base_uri": "https://localhost:8080/"
        }
      },
      "source": [
        "len_training = math.ceil(len(data_close) * 0.8)\n",
        "len_training"
      ],
      "execution_count": null,
      "outputs": [
        {
          "output_type": "execute_result",
          "data": {
            "text/plain": [
              "40000"
            ]
          },
          "metadata": {
            "tags": []
          },
          "execution_count": 16
        }
      ]
    },
    {
      "cell_type": "code",
      "metadata": {
        "id": "RiWAnirujq8x",
        "outputId": "2ea9c82d-d247-46ab-efc0-ca52fafef5ea",
        "colab": {
          "base_uri": "https://localhost:8080/"
        }
      },
      "source": [
        "unscaled_train_data = data_all[0:len_training, :]\n",
        "training_scaler = MinMaxScaler(feature_range=(0,1))\n",
        "train_data = training_scaler.fit_transform(unscaled_train_data)\n",
        "x_train = []\n",
        "y_train = []\n",
        "\n",
        "for i in range(168, len(train_data)):\n",
        "  x_train.append(train_data[i-168:i])\n",
        "  y_train.append(train_data[i,3])\n",
        "  if i <= 168:\n",
        "    print(x_train)\n",
        "    print(y_train)\n",
        "    print()\n",
        "\n"
      ],
      "execution_count": null,
      "outputs": [
        {
          "output_type": "stream",
          "text": [
            "[array([[0.68620339, 0.69258215, 0.68598186, 0.69083575],\n",
            "       [0.69077256, 0.69610718, 0.69233935, 0.69678877],\n",
            "       [0.69663129, 0.70013002, 0.69838016, 0.69805963],\n",
            "       [0.69801211, 0.69830109, 0.69714688, 0.69540788],\n",
            "       [0.69536588, 0.69822058, 0.69663246, 0.6987011 ],\n",
            "       [0.69859181, 0.69826084, 0.69423804, 0.69296547],\n",
            "       [0.69289679, 0.6958482 , 0.69142274, 0.69517974],\n",
            "       [0.6951646 , 0.6959381 , 0.68392951, 0.6867427 ],\n",
            "       [0.68671063, 0.68988504, 0.68789125, 0.68953   ],\n",
            "       [0.68938101, 0.69400853, 0.69148287, 0.69297084],\n",
            "       [0.69283103, 0.69519875, 0.69074664, 0.69550584],\n",
            "       [0.69548531, 0.69703707, 0.6963051 , 0.69705851],\n",
            "       [0.69697616, 0.70143966, 0.69744217, 0.70145887],\n",
            "       [0.70144066, 0.70090427, 0.70119681, 0.7009932 ],\n",
            "       [0.7005322 , 0.70130548, 0.69685292, 0.69515558],\n",
            "       [0.69511361, 0.69667612, 0.69638527, 0.69723297],\n",
            "       [0.6973009 , 0.70573357, 0.69922195, 0.70131125],\n",
            "       [0.70130111, 0.70418508, 0.70317433, 0.70334703],\n",
            "       [0.70326967, 0.70267416, 0.70321041, 0.70158501],\n",
            "       [0.70151581, 0.70267685, 0.70270267, 0.70328799],\n",
            "       [0.70319721, 0.70284726, 0.69961077, 0.70288003],\n",
            "       [0.70280806, 0.70272247, 0.70225238, 0.70277535],\n",
            "       [0.70273291, 0.70244739, 0.70124758, 0.70148571],\n",
            "       [0.70141785, 0.70161545, 0.69811026, 0.69690955],\n",
            "       [0.69689028, 0.69914645, 0.69818375, 0.69867962],\n",
            "       [0.69861462, 0.69875732, 0.69701994, 0.69695115],\n",
            "       [0.69685539, 0.69761943, 0.69487139, 0.69582926],\n",
            "       [0.69584897, 0.69725445, 0.69582541, 0.69569908],\n",
            "       [0.69568794, 0.70050172, 0.69686361, 0.69916542],\n",
            "       [0.69904403, 0.7013605 , 0.69850042, 0.70001087],\n",
            "       [0.70000886, 0.70505057, 0.69883045, 0.70096368],\n",
            "       [0.70097502, 0.71420194, 0.7009563 , 0.71399834],\n",
            "       [0.71399682, 0.71983098, 0.71487783, 0.71559395],\n",
            "       [0.71560442, 0.72147742, 0.71759426, 0.71792632],\n",
            "       [0.71788296, 0.71758339, 0.71734306, 0.7165575 ],\n",
            "       [0.71654106, 0.71638378, 0.717474  , 0.71691178],\n",
            "       [0.7168175 , 0.71833483, 0.71854294, 0.71660044],\n",
            "       [0.71653972, 0.71570347, 0.71852557, 0.71658299],\n",
            "       [0.71993876, 0.72022683, 0.71869392, 0.7189583 ],\n",
            "       [0.71891489, 0.7183469 , 0.71769848, 0.71781091],\n",
            "       [0.71788028, 0.71840192, 0.71820221, 0.71772636],\n",
            "       [0.71766155, 0.71807987, 0.71825967, 0.71751433],\n",
            "       [0.71754615, 0.71710301, 0.71812605, 0.71700035],\n",
            "       [0.71687386, 0.71672595, 0.71780003, 0.71612806],\n",
            "       [0.71613849, 0.7167273 , 0.71595077, 0.71590798],\n",
            "       [0.7158889 , 0.71693528, 0.71759158, 0.71678966],\n",
            "       [0.71672088, 0.716365  , 0.71504084, 0.71482902],\n",
            "       [0.71469864, 0.71881789, 0.71669234, 0.71874493],\n",
            "       [0.71875654, 0.719623  , 0.7164211 , 0.71563824],\n",
            "       [0.71558832, 0.71673669, 0.71589064, 0.71748212],\n",
            "       [0.71742404, 0.71765183, 0.71826234, 0.71681784],\n",
            "       [0.71675309, 0.71729221, 0.71523191, 0.71604218],\n",
            "       [0.71602443, 0.71637573, 0.71050054, 0.71086615],\n",
            "       [0.71072124, 0.71101238, 0.70639984, 0.70595585],\n",
            "       [0.70584612, 0.70840518, 0.69686762, 0.69877625],\n",
            "       [0.69887361, 0.70257084, 0.69710813, 0.70174605],\n",
            "       [0.70173051, 0.7035477 , 0.70184618, 0.70032624],\n",
            "       [0.70047852, 0.70315857, 0.70020804, 0.70241302],\n",
            "       [0.70234376, 0.70305122, 0.70335071, 0.70245462],\n",
            "       [0.70243501, 0.70159934, 0.70134779, 0.70173532],\n",
            "       [0.70171173, 0.70177647, 0.70236729, 0.7011435 ],\n",
            "       [0.70110787, 0.70027226, 0.70315964, 0.70115021],\n",
            "       [0.70038325, 0.70125315, 0.7013037 , 0.69960828],\n",
            "       [0.69951235, 0.70041315, 0.70059553, 0.70015849],\n",
            "       [0.70011621, 0.70239372, 0.70151749, 0.702307  ],\n",
            "       [0.70229009, 0.70353428, 0.70350838, 0.70323028],\n",
            "       [0.70323478, 0.70275601, 0.70351372, 0.70190306],\n",
            "       [0.70186068, 0.70172279, 0.70232453, 0.7013448 ],\n",
            "       [0.70126085, 0.70130548, 0.70138253, 0.70031416],\n",
            "       [0.70024101, 0.69968453, 0.7002361 , 0.69912516],\n",
            "       [0.6990816 , 0.69880831, 0.69748226, 0.69858166],\n",
            "       [0.69852337, 0.69977712, 0.6987917 , 0.69979481],\n",
            "       [0.69978342, 0.69915316, 0.69261059, 0.69456108],\n",
            "       [0.69445607, 0.69707867, 0.69493285, 0.69645462],\n",
            "       [0.69651992, 0.69701292, 0.69481794, 0.69398672],\n",
            "       [0.69423869, 0.69891029, 0.69493018, 0.699721  ],\n",
            "       [0.69958482, 0.6987761 , 0.69003179, 0.69194556],\n",
            "       [0.6919172 , 0.71443811, 0.69258387, 0.70182254],\n",
            "       [0.70178016, 0.7086078 , 0.69810224, 0.69800192],\n",
            "       [0.69793025, 0.70188382, 0.69736735, 0.70126965],\n",
            "       [0.70144469, 0.70412335, 0.70267327, 0.70417906],\n",
            "       [0.70422242, 0.70828307, 0.7057518 , 0.7075783 ],\n",
            "       [0.70746848, 0.70729547, 0.70543914, 0.70372816],\n",
            "       [0.70370847, 0.70477951, 0.70561952, 0.70437902],\n",
            "       [0.70436869, 0.70439441, 0.7051238 , 0.70325712],\n",
            "       [0.70308181, 0.7037208 , 0.70467084, 0.70312292],\n",
            "       [0.70308047, 0.70362955, 0.70455059, 0.70381136],\n",
            "       [0.70380241, 0.70782416, 0.70508105, 0.70824258],\n",
            "       [0.7081864 , 0.70895533, 0.70741533, 0.70664026],\n",
            "       [0.70651976, 0.70576711, 0.70528548, 0.70571697],\n",
            "       [0.70564886, 0.70668762, 0.70664837, 0.70624303],\n",
            "       [0.70626614, 0.70545178, 0.70639717, 0.70467962],\n",
            "       [0.70465854, 0.70735854, 0.70619407, 0.70733809],\n",
            "       [0.70726854, 0.70664065, 0.70598029, 0.70469304],\n",
            "       [0.70469209, 0.70439306, 0.70030157, 0.70002966],\n",
            "       [0.69987869, 0.69963488, 0.69773346, 0.69681159],\n",
            "       [0.69673865, 0.69848895, 0.69453467, 0.69441883],\n",
            "       [0.69435006, 0.69716455, 0.69576261, 0.69447654],\n",
            "       [0.69442655, 0.69969661, 0.69501837, 0.69731349],\n",
            "       [0.69727138, 0.70170401, 0.69454803, 0.6958145 ],\n",
            "       [0.69577248, 0.69516386, 0.68725924, 0.68736538],\n",
            "       [0.68731314, 0.68701618, 0.67391092, 0.67715156],\n",
            "       [0.67707042, 0.67884569, 0.67665007, 0.67723074],\n",
            "       [0.67714691, 0.67880409, 0.67376795, 0.67358458],\n",
            "       [0.6735694 , 0.67280068, 0.67044758, 0.67322627],\n",
            "       [0.67318562, 0.67470476, 0.6733671 , 0.67333229],\n",
            "       [0.67326479, 0.67943476, 0.67539541, 0.68020323],\n",
            "       [0.68018899, 0.6795676 , 0.67527782, 0.67354969],\n",
            "       [0.6723684 , 0.6744686 , 0.67454293, 0.67338597],\n",
            "       [0.67337214, 0.67421767, 0.67519364, 0.67503929],\n",
            "       [0.674969  , 0.67621299, 0.67455896, 0.67666577],\n",
            "       [0.67664906, 0.67814659, 0.67783658, 0.6782171 ],\n",
            "       [0.67820835, 0.68308189, 0.67966446, 0.68369641],\n",
            "       [0.68362157, 0.6961273 , 0.68566653, 0.69116721],\n",
            "       [0.69112548, 0.69431581, 0.68775496, 0.68853693],\n",
            "       [0.68853561, 0.69632858, 0.68996231, 0.69444165],\n",
            "       [0.69434604, 0.6990968 , 0.6952228 , 0.69507104],\n",
            "       [0.69491769, 0.69984421, 0.69684357, 0.69789054],\n",
            "       [0.69787658, 0.69814007, 0.69665918, 0.69871452],\n",
            "       [0.69864012, 0.6994269 , 0.69666586, 0.69719539],\n",
            "       [0.69715061, 0.70753298, 0.69737537, 0.70780778],\n",
            "       [0.70775162, 0.71636634, 0.70912429, 0.71014283],\n",
            "       [0.71005029, 0.73749636, 0.71156547, 0.73460714],\n",
            "       [0.73427025, 0.73552251, 0.73093055, 0.73353624],\n",
            "       [0.7334168 , 0.73747623, 0.732717  , 0.73479502],\n",
            "       [0.73472247, 0.73632761, 0.73358418, 0.73278071],\n",
            "       [0.73272438, 0.73374322, 0.73057513, 0.73454541],\n",
            "       [0.73472381, 0.74650013, 0.73602001, 0.73937117],\n",
            "       [0.73928627, 0.73874293, 0.73816857, 0.73814863],\n",
            "       [0.73783836, 0.73874293, 0.73764345, 0.73626315],\n",
            "       [0.736267  , 0.73551043, 0.73542007, 0.73414013],\n",
            "       [0.73661589, 0.73668052, 0.73581157, 0.73708981],\n",
            "       [0.73703054, 0.73620282, 0.73628457, 0.73661609],\n",
            "       [0.7364817 , 0.73577612, 0.7289597 , 0.72925264],\n",
            "       [0.72924349, 0.7284738 , 0.7254389 , 0.72479726],\n",
            "       [0.72475349, 0.72788339, 0.72651318, 0.72761542],\n",
            "       [0.72762516, 0.72916351, 0.7289891 , 0.73003501],\n",
            "       [0.7300124 , 0.72936478, 0.72976942, 0.72904195],\n",
            "       [0.7289939 , 0.72884147, 0.72860829, 0.72800459],\n",
            "       [0.72796063, 0.72779483, 0.72725876, 0.72655391],\n",
            "       [0.72642013, 0.72865361, 0.72699286, 0.72885541],\n",
            "       [0.72881945, 0.72999545, 0.72751931, 0.73056375],\n",
            "       [0.73054245, 0.73412833, 0.73004467, 0.72849844],\n",
            "       [0.72849068, 0.72801221, 0.72611099, 0.72539981],\n",
            "       [0.72518827, 0.72681528, 0.72336249, 0.72394779],\n",
            "       [0.72386784, 0.72908166, 0.72279596, 0.72843403],\n",
            "       [0.72848398, 0.72972708, 0.7276262 , 0.72754832],\n",
            "       [0.72739569, 0.74047525, 0.72837579, 0.73593034],\n",
            "       [0.73632067, 0.73725483, 0.73498448, 0.73601756],\n",
            "       [0.73599056, 0.7383538 , 0.73579153, 0.73846265],\n",
            "       [0.73861264, 0.73779425, 0.73527443, 0.73503255],\n",
            "       [0.73496401, 0.73578953, 0.73458363, 0.73478026],\n",
            "       [0.73460841, 0.73580832, 0.73576747, 0.73636245],\n",
            "       [0.73629518, 0.73557886, 0.73558843, 0.73374693],\n",
            "       [0.73369323, 0.73370431, 0.73498582, 0.73372009],\n",
            "       [0.73367579, 0.73352987, 0.73304436, 0.73171651],\n",
            "       [0.73166294, 0.73383715, 0.73334634, 0.73263711],\n",
            "       [0.73261703, 0.73396999, 0.73386477, 0.73375633],\n",
            "       [0.7336825 , 0.73737425, 0.73558175, 0.73794599],\n",
            "       [0.7379229 , 0.74136221, 0.73709963, 0.74186458],\n",
            "       [0.74181844, 0.74411031, 0.74108275, 0.74165925],\n",
            "       [0.74165204, 0.74388354, 0.74271822, 0.74359841],\n",
            "       [0.7434636 , 0.74725828, 0.74483471, 0.74689969],\n",
            "       [0.74661707, 0.7522969 , 0.74699396, 0.74807258],\n",
            "       [0.74798178, 0.75028414, 0.74833681, 0.74916495],\n",
            "       [0.74913447, 0.75039953, 0.75025287, 0.74990304],\n",
            "       [0.74999195, 0.75032439, 0.75126301, 0.75003187],\n",
            "       [0.75002147, 0.75591854, 0.75128306, 0.75375721]])]\n",
            "[0.7594552630484173]\n",
            "\n"
          ],
          "name": "stdout"
        }
      ]
    },
    {
      "cell_type": "code",
      "metadata": {
        "id": "ui_4YD0umBDf"
      },
      "source": [
        "x_train, y_train = np.array(x_train), np.array(y_train)"
      ],
      "execution_count": null,
      "outputs": []
    },
    {
      "cell_type": "code",
      "metadata": {
        "id": "KISvICYGo1K6",
        "outputId": "c601fa71-a83e-4399-947e-319068320cf8",
        "colab": {
          "base_uri": "https://localhost:8080/"
        }
      },
      "source": [
        "x_train.shape"
      ],
      "execution_count": null,
      "outputs": [
        {
          "output_type": "execute_result",
          "data": {
            "text/plain": [
              "(39832, 168, 4)"
            ]
          },
          "metadata": {
            "tags": []
          },
          "execution_count": 35
        }
      ]
    },
    {
      "cell_type": "code",
      "metadata": {
        "id": "vTpMNL5zo5xh"
      },
      "source": [
        "model = Sequential()\n",
        "model.add(LSTM(50, return_sequences=True, input_shape=(x_train.shape[1],x_train.shape[2])))\n",
        "model.add(LSTM(50, return_sequences=False))\n",
        "model.add(Dense(25))\n",
        "model.add(Dense(1))"
      ],
      "execution_count": null,
      "outputs": []
    },
    {
      "cell_type": "code",
      "metadata": {
        "id": "CALNxOONqgXu"
      },
      "source": [
        "model.compile(optimizer='adam', loss='mean_squared_error')"
      ],
      "execution_count": null,
      "outputs": []
    },
    {
      "cell_type": "code",
      "metadata": {
        "id": "Sj6KjHaLq9Ka",
        "outputId": "e5dfb74c-d615-4e0e-91ed-c98e7c0fdf5b",
        "colab": {
          "base_uri": "https://localhost:8080/"
        }
      },
      "source": [
        "model.fit(x_train, y_train, batch_size=1, epochs=1)"
      ],
      "execution_count": null,
      "outputs": [
        {
          "output_type": "stream",
          "text": [
            "39832/39832 [==============================] - 2344s 59ms/step - loss: 1.6205e-04\n"
          ],
          "name": "stdout"
        },
        {
          "output_type": "execute_result",
          "data": {
            "text/plain": [
              "<tensorflow.python.keras.callbacks.History at 0x7f0f507007f0>"
            ]
          },
          "metadata": {
            "tags": []
          },
          "execution_count": 39
        }
      ]
    },
    {
      "cell_type": "code",
      "metadata": {
        "id": "86GLrsHjr46A",
        "outputId": "db230644-54d8-4110-893f-98fd61b83241",
        "colab": {
          "base_uri": "https://localhost:8080/"
        }
      },
      "source": [
        "unscaled_test_data = data_all[len_training - 168:, :]\n",
        "tmpdata = data_all[len_training - 168:, :]\n",
        "testing_scaler = MinMaxScaler(feature_range=(0,1))\n",
        "autre_scaler = MinMaxScaler(feature_range=(0,1))\n",
        "test_data = testing_scaler.fit_transform(unscaled_test_data)\n",
        "tmpdata = tmpdata[:,3]\n",
        "tmpdata = np.reshape(tmpdata, (tmpdata.shape[0], 1))\n",
        "#print(np.reshape(tmpdata, (tmpdata.shape[0], 1)))\n",
        "temp = autre_scaler.fit_transform(tmpdata)\n",
        "\n",
        "x_test = []\n",
        "y_test = data_close[len_training:, :]\n",
        "for i in range(168, len(test_data)):\n",
        "  x_test.append(test_data[i-168:i])\n",
        "  #if i <= 169:\n",
        "    #print(x_test)\n",
        "print(temp)\n"
      ],
      "execution_count": null,
      "outputs": [
        {
          "output_type": "stream",
          "text": [
            "[[0.09091215]\n",
            " [0.09066294]\n",
            " [0.08699082]\n",
            " ...\n",
            " [0.83545848]\n",
            " [0.80230096]\n",
            " [0.76373557]]\n"
          ],
          "name": "stdout"
        }
      ]
    },
    {
      "cell_type": "code",
      "metadata": {
        "id": "KQepwYmz2BNC"
      },
      "source": [
        "\n",
        "x_test = np.array(x_test)\n",
        "x_test"
      ],
      "execution_count": null,
      "outputs": []
    },
    {
      "cell_type": "code",
      "metadata": {
        "id": "7v_7gu3t2kcn",
        "outputId": "6b2cf1cb-c055-48d2-b133-b4149eab41b9",
        "colab": {
          "base_uri": "https://localhost:8080/"
        }
      },
      "source": [
        "x_test.shape"
      ],
      "execution_count": null,
      "outputs": [
        {
          "output_type": "execute_result",
          "data": {
            "text/plain": [
              "(10000, 168, 4)"
            ]
          },
          "metadata": {
            "tags": []
          },
          "execution_count": 77
        }
      ]
    },
    {
      "cell_type": "code",
      "metadata": {
        "id": "Hho60I7F2ozW"
      },
      "source": [
        "predictions = model.predict(x_test)\n",
        "predictions = autre_scaler.inverse_transform(predictions)"
      ],
      "execution_count": null,
      "outputs": []
    },
    {
      "cell_type": "code",
      "metadata": {
        "id": "HqJgu5Xm24uY",
        "outputId": "60c24372-0cde-4a14-d21d-3a16462ddc9f",
        "colab": {
          "base_uri": "https://localhost:8080/"
        }
      },
      "source": [
        "predictions.shape"
      ],
      "execution_count": null,
      "outputs": [
        {
          "output_type": "execute_result",
          "data": {
            "text/plain": [
              "(10000, 1)"
            ]
          },
          "metadata": {
            "tags": []
          },
          "execution_count": 79
        }
      ]
    },
    {
      "cell_type": "code",
      "metadata": {
        "id": "T7u2nxNv6bDK"
      },
      "source": [
        "from sklearn.metrics import classification_report"
      ],
      "execution_count": null,
      "outputs": []
    },
    {
      "cell_type": "code",
      "metadata": {
        "id": "WqNUVAKb6o6L",
        "outputId": "b87fb41a-b58b-4a5e-f332-05e75f921445",
        "colab": {
          "base_uri": "https://localhost:8080/"
        }
      },
      "source": [
        "y_test"
      ],
      "execution_count": null,
      "outputs": [
        {
          "output_type": "execute_result",
          "data": {
            "text/plain": [
              "array([[1294.475],\n",
              "       [1291.235],\n",
              "       [1287.395],\n",
              "       ...,\n",
              "       [1938.078],\n",
              "       [1911.468],\n",
              "       [1880.518]])"
            ]
          },
          "metadata": {
            "tags": []
          },
          "execution_count": 111
        }
      ]
    },
    {
      "cell_type": "code",
      "metadata": {
        "id": "JLA29ojJ8A7F",
        "outputId": "59c1a7a0-344e-472f-a48e-597f16df55f8",
        "colab": {
          "base_uri": "https://localhost:8080/"
        }
      },
      "source": [
        "predictions"
      ],
      "execution_count": null,
      "outputs": [
        {
          "output_type": "execute_result",
          "data": {
            "text/plain": [
              "array([[1285.831 ],\n",
              "       [1285.5587],\n",
              "       [1282.9983],\n",
              "       ...,\n",
              "       [1953.3088],\n",
              "       [1937.3239],\n",
              "       [1913.7333]], dtype=float32)"
            ]
          },
          "metadata": {
            "tags": []
          },
          "execution_count": 169
        }
      ]
    },
    {
      "cell_type": "code",
      "metadata": {
        "id": "DOdGoLLFGpAS",
        "outputId": "9b6b73d0-8fd4-4641-c345-c6641caa0925",
        "colab": {
          "base_uri": "https://localhost:8080/"
        }
      },
      "source": [
        "y_test.shape"
      ],
      "execution_count": null,
      "outputs": [
        {
          "output_type": "execute_result",
          "data": {
            "text/plain": [
              "(10000, 1)"
            ]
          },
          "metadata": {
            "tags": []
          },
          "execution_count": 136
        }
      ]
    },
    {
      "cell_type": "code",
      "metadata": {
        "id": "tprVn4VC8IsR",
        "outputId": "1d5bf765-5d2a-476b-d90b-35e2fca86881",
        "colab": {
          "base_uri": "https://localhost:8080/"
        }
      },
      "source": [
        "predictions.reshape((-1,1)).shape"
      ],
      "execution_count": null,
      "outputs": [
        {
          "output_type": "execute_result",
          "data": {
            "text/plain": [
              "(10000, 1)"
            ]
          },
          "metadata": {
            "tags": []
          },
          "execution_count": 125
        }
      ]
    },
    {
      "cell_type": "code",
      "metadata": {
        "id": "MvRmIic63L5K",
        "outputId": "c924853e-8b12-46d2-8b14-fb610d71eabd",
        "colab": {
          "base_uri": "https://localhost:8080/"
        }
      },
      "source": [
        "rmse = np.sqrt(np.mean(predictions - y_test)**2)\n",
        "rmse"
      ],
      "execution_count": null,
      "outputs": [
        {
          "output_type": "execute_result",
          "data": {
            "text/plain": [
              "2.9736080306640114"
            ]
          },
          "metadata": {
            "tags": []
          },
          "execution_count": 101
        }
      ]
    },
    {
      "cell_type": "code",
      "metadata": {
        "id": "snKV8zZs651P",
        "outputId": "24e7af91-85c7-4325-da80-77ba4d31725d",
        "colab": {
          "base_uri": "https://localhost:8080/",
          "height": 535
        }
      },
      "source": [
        "train = raw_data[:len_training]\n",
        "dataplt = {'Predictions':predictions.flatten(), 'Close':raw_data[len_training:][\"Close\"]}\n",
        "valid = pd.DataFrame(data=dataplt)\n",
        "#valid = np.array(data_close[len_training:])\n",
        "#valid['Predictions'] = predictions.flatten()\n",
        "plt.figure(figsize=(27,8))\n",
        "plt.title(\"Model\")\n",
        "plt.xlabel('Date', fontsize=18)\n",
        "plt.ylabel('Close Price per Hour', fontsize=18)\n",
        "plt.plot(train['Close'])\n",
        "plt.plot(valid[['Close']], marker='o', markersize=6, linewidth=1)\n",
        "plt.plot(valid[['Predictions']], marker='|', markersize=150, linewidth= 0)\n",
        "plt.plot(valid[['Predictions']], marker='v', markersize=20, linewidth= 0)\n",
        "plt.xlim(49300,49325)\n",
        "plt.ylim(1830,1900)\n",
        "plt.legend(['Train', 'Val', 'Predictions'], loc='lower right')"
      ],
      "execution_count": null,
      "outputs": [
        {
          "output_type": "execute_result",
          "data": {
            "text/plain": [
              "<matplotlib.legend.Legend at 0x7f0f34664320>"
            ]
          },
          "metadata": {
            "tags": []
          },
          "execution_count": 199
        },
        {
          "output_type": "display_data",
          "data": {
            "image/png": "[encoded data removed]",
            "text/plain": [
              "<Figure size 1944x576 with 1 Axes>"
            ]
          },
          "metadata": {
            "tags": [],
            "needs_background": "light"
          }
        }
      ]
    },
    {
      "cell_type": "code",
      "metadata": {
        "id": "etPurnAS72z-",
        "outputId": "f2afb2cf-329a-46ee-dc71-dc3038fb70bc",
        "colab": {
          "base_uri": "https://localhost:8080/"
        }
      },
      "source": [
        "tail_raw\n",
        "X_pred = []\n",
        "scaled_tail = testing_scaler.transform(tail_raw)\n",
        "X_pred.append(scaled_tail)\n",
        "X_pred = np.array(X_pred)\n",
        "pred_price = model.predict(X_pred)\n",
        "pred_price\n"
      ],
      "execution_count": null,
      "outputs": [
        {
          "output_type": "execute_result",
          "data": {
            "text/plain": [
              "array([[0.7697577]], dtype=float32)"
            ]
          },
          "metadata": {
            "tags": []
          },
          "execution_count": 206
        }
      ]
    },
    {
      "cell_type": "code",
      "metadata": {
        "id": "SJIfJIIYe8ab"
      },
      "source": [
        "pred_price = autre_scaler.inverse_transform(pred_price)"
      ],
      "execution_count": null,
      "outputs": []
    },
    {
      "cell_type": "code",
      "metadata": {
        "id": "uffomUaYfO3Q",
        "outputId": "7ae097ca-201c-491d-adb3-6aeb6a122f7e",
        "colab": {
          "base_uri": "https://localhost:8080/"
        }
      },
      "source": [
        "pred_price"
      ],
      "execution_count": null,
      "outputs": [
        {
          "output_type": "execute_result",
          "data": {
            "text/plain": [
              "array([[1885.351]], dtype=float32)"
            ]
          },
          "metadata": {
            "tags": []
          },
          "execution_count": 209
        }
      ]
    },
    {
      "cell_type": "code",
      "metadata": {
        "id": "NnCEiWlIfXSu",
        "outputId": "6f6c0a4d-6dbe-449b-9889-4e8a8f02a77d",
        "colab": {
          "base_uri": "https://localhost:8080/",
          "height": 419
        }
      },
      "source": [
        "valid"
      ],
      "execution_count": null,
      "outputs": [
        {
          "output_type": "execute_result",
          "data": {
            "text/html": [
              "<div>\n",
              "<style scoped>\n",
              "    .dataframe tbody tr th:only-of-type {\n",
              "        vertical-align: middle;\n",
              "    }\n",
              "\n",
              "    .dataframe tbody tr th {\n",
              "        vertical-align: top;\n",
              "    }\n",
              "\n",
              "    .dataframe thead th {\n",
              "        text-align: right;\n",
              "    }\n",
              "</style>\n",
              "<table border=\"1\" class=\"dataframe\">\n",
              "  <thead>\n",
              "    <tr style=\"text-align: right;\">\n",
              "      <th></th>\n",
              "      <th>Predictions</th>\n",
              "      <th>Close</th>\n",
              "    </tr>\n",
              "  </thead>\n",
              "  <tbody>\n",
              "    <tr>\n",
              "      <th>40000</th>\n",
              "      <td>1285.831055</td>\n",
              "      <td>1294.475</td>\n",
              "    </tr>\n",
              "    <tr>\n",
              "      <th>40001</th>\n",
              "      <td>1285.558716</td>\n",
              "      <td>1291.235</td>\n",
              "    </tr>\n",
              "    <tr>\n",
              "      <th>40002</th>\n",
              "      <td>1282.998291</td>\n",
              "      <td>1287.395</td>\n",
              "    </tr>\n",
              "    <tr>\n",
              "      <th>40003</th>\n",
              "      <td>1278.818237</td>\n",
              "      <td>1287.935</td>\n",
              "    </tr>\n",
              "    <tr>\n",
              "      <th>40004</th>\n",
              "      <td>1278.642822</td>\n",
              "      <td>1287.035</td>\n",
              "    </tr>\n",
              "    <tr>\n",
              "      <th>...</th>\n",
              "      <td>...</td>\n",
              "      <td>...</td>\n",
              "    </tr>\n",
              "    <tr>\n",
              "      <th>49995</th>\n",
              "      <td>1954.283325</td>\n",
              "      <td>1958.558</td>\n",
              "    </tr>\n",
              "    <tr>\n",
              "      <th>49996</th>\n",
              "      <td>1952.653687</td>\n",
              "      <td>1958.725</td>\n",
              "    </tr>\n",
              "    <tr>\n",
              "      <th>49997</th>\n",
              "      <td>1953.308838</td>\n",
              "      <td>1938.078</td>\n",
              "    </tr>\n",
              "    <tr>\n",
              "      <th>49998</th>\n",
              "      <td>1937.323853</td>\n",
              "      <td>1911.468</td>\n",
              "    </tr>\n",
              "    <tr>\n",
              "      <th>49999</th>\n",
              "      <td>1913.733276</td>\n",
              "      <td>1880.518</td>\n",
              "    </tr>\n",
              "  </tbody>\n",
              "</table>\n",
              "<p>10000 rows × 2 columns</p>\n",
              "</div>"
            ],
            "text/plain": [
              "       Predictions     Close\n",
              "40000  1285.831055  1294.475\n",
              "40001  1285.558716  1291.235\n",
              "40002  1282.998291  1287.395\n",
              "40003  1278.818237  1287.935\n",
              "40004  1278.642822  1287.035\n",
              "...            ...       ...\n",
              "49995  1954.283325  1958.558\n",
              "49996  1952.653687  1958.725\n",
              "49997  1953.308838  1938.078\n",
              "49998  1937.323853  1911.468\n",
              "49999  1913.733276  1880.518\n",
              "\n",
              "[10000 rows x 2 columns]"
            ]
          },
          "metadata": {
            "tags": []
          },
          "execution_count": 210
        }
      ]
    },
    {
      "cell_type": "code",
      "metadata": {
        "id": "wv3OY8G5kHqu"
      },
      "source": [
        ""
      ],
      "execution_count": null,
      "outputs": []
    }
  ]
}